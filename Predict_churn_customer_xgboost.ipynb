{
 "cells": [
  {
   "cell_type": "code",
   "execution_count": 1,
   "metadata": {
    "id": "825iniPBfMtx"
   },
   "outputs": [],
   "source": [
    "#Importing required packages\n",
    "import pandas as pd\n",
    "import numpy as np\n",
    "\n",
    "#packages for data preparation \n",
    "from sklearn.compose import ColumnTransformer \n",
    "from sklearn.impute import SimpleImputer\n",
    "from sklearn.preprocessing import StandardScaler, OneHotEncoder\n",
    "from sklearn.pipeline import Pipeline\n",
    "import sklearn\n",
    "\n",
    "#Xgboost for classification model\n",
    "import xgboost as xgb\n",
    "\n",
    "#For train and test split of the data\n",
    "from sklearn.model_selection import train_test_split\n",
    "\n",
    "#To evaluate the model performance\n",
    "from sklearn.metrics import classification_report, confusion_matrix\n",
    "#To save the model \n",
    "import joblib\n",
    "\n",
    "#For plotting the feature importance from the model\n",
    "import matplotlib.pyplot as plt\n",
    "import seaborn as sns\n",
    "\n",
    "plt.rcParams[\"figure.figsize\"] = (20,10)\n",
    "%matplotlib inline\n",
    "\n",
    "#To supress the warnings\n",
    "import warnings\n",
    "warnings.filterwarnings('ignore')"
   ]
  },
  {
   "cell_type": "code",
   "execution_count": 2,
   "metadata": {
    "id": "z-jzURM8fMt1"
   },
   "outputs": [],
   "source": [
    "#To import data from the cloud storage\n",
    "data=pd.read_csv(\"gs://bucket-aiplatform/Bank_chrun_data/BankChurners.csv\")\n"
   ]
  },
  {
   "cell_type": "code",
   "execution_count": 3,
   "metadata": {
    "id": "cIqjElwgfMt2",
    "outputId": "3a6cef60-69bd-4b40-9fa0-ffdbee5caa69"
   },
   "outputs": [
    {
     "name": "stdout",
     "output_type": "stream",
     "text": [
      "(10127, 23)\n"
     ]
    },
    {
     "data": {
      "text/html": [
       "<div>\n",
       "<style scoped>\n",
       "    .dataframe tbody tr th:only-of-type {\n",
       "        vertical-align: middle;\n",
       "    }\n",
       "\n",
       "    .dataframe tbody tr th {\n",
       "        vertical-align: top;\n",
       "    }\n",
       "\n",
       "    .dataframe thead th {\n",
       "        text-align: right;\n",
       "    }\n",
       "</style>\n",
       "<table border=\"1\" class=\"dataframe\">\n",
       "  <thead>\n",
       "    <tr style=\"text-align: right;\">\n",
       "      <th></th>\n",
       "      <th>CLIENTNUM</th>\n",
       "      <th>Attrition_Flag</th>\n",
       "      <th>Customer_Age</th>\n",
       "      <th>Gender</th>\n",
       "      <th>Dependent_count</th>\n",
       "      <th>Education_Level</th>\n",
       "      <th>Marital_Status</th>\n",
       "      <th>Income_Category</th>\n",
       "      <th>Card_Category</th>\n",
       "      <th>Months_on_book</th>\n",
       "      <th>...</th>\n",
       "      <th>Credit_Limit</th>\n",
       "      <th>Total_Revolving_Bal</th>\n",
       "      <th>Avg_Open_To_Buy</th>\n",
       "      <th>Total_Amt_Chng_Q4_Q1</th>\n",
       "      <th>Total_Trans_Amt</th>\n",
       "      <th>Total_Trans_Ct</th>\n",
       "      <th>Total_Ct_Chng_Q4_Q1</th>\n",
       "      <th>Avg_Utilization_Ratio</th>\n",
       "      <th>Naive_Bayes_Classifier_Attrition_Flag_Card_Category_Contacts_Count_12_mon_Dependent_count_Education_Level_Months_Inactive_12_mon_1</th>\n",
       "      <th>Naive_Bayes_Classifier_Attrition_Flag_Card_Category_Contacts_Count_12_mon_Dependent_count_Education_Level_Months_Inactive_12_mon_2</th>\n",
       "    </tr>\n",
       "  </thead>\n",
       "  <tbody>\n",
       "    <tr>\n",
       "      <th>0</th>\n",
       "      <td>768805383</td>\n",
       "      <td>Existing Customer</td>\n",
       "      <td>45</td>\n",
       "      <td>M</td>\n",
       "      <td>3</td>\n",
       "      <td>High School</td>\n",
       "      <td>Married</td>\n",
       "      <td>$60K - $80K</td>\n",
       "      <td>Blue</td>\n",
       "      <td>39</td>\n",
       "      <td>...</td>\n",
       "      <td>12691.0</td>\n",
       "      <td>777</td>\n",
       "      <td>11914.0</td>\n",
       "      <td>1.335</td>\n",
       "      <td>1144</td>\n",
       "      <td>42</td>\n",
       "      <td>1.625</td>\n",
       "      <td>0.061</td>\n",
       "      <td>0.000093</td>\n",
       "      <td>0.99991</td>\n",
       "    </tr>\n",
       "    <tr>\n",
       "      <th>1</th>\n",
       "      <td>818770008</td>\n",
       "      <td>Existing Customer</td>\n",
       "      <td>49</td>\n",
       "      <td>F</td>\n",
       "      <td>5</td>\n",
       "      <td>Graduate</td>\n",
       "      <td>Single</td>\n",
       "      <td>Less than $40K</td>\n",
       "      <td>Blue</td>\n",
       "      <td>44</td>\n",
       "      <td>...</td>\n",
       "      <td>8256.0</td>\n",
       "      <td>864</td>\n",
       "      <td>7392.0</td>\n",
       "      <td>1.541</td>\n",
       "      <td>1291</td>\n",
       "      <td>33</td>\n",
       "      <td>3.714</td>\n",
       "      <td>0.105</td>\n",
       "      <td>0.000057</td>\n",
       "      <td>0.99994</td>\n",
       "    </tr>\n",
       "    <tr>\n",
       "      <th>2</th>\n",
       "      <td>713982108</td>\n",
       "      <td>Existing Customer</td>\n",
       "      <td>51</td>\n",
       "      <td>M</td>\n",
       "      <td>3</td>\n",
       "      <td>Graduate</td>\n",
       "      <td>Married</td>\n",
       "      <td>$80K - $120K</td>\n",
       "      <td>Blue</td>\n",
       "      <td>36</td>\n",
       "      <td>...</td>\n",
       "      <td>3418.0</td>\n",
       "      <td>0</td>\n",
       "      <td>3418.0</td>\n",
       "      <td>2.594</td>\n",
       "      <td>1887</td>\n",
       "      <td>20</td>\n",
       "      <td>2.333</td>\n",
       "      <td>0.000</td>\n",
       "      <td>0.000021</td>\n",
       "      <td>0.99998</td>\n",
       "    </tr>\n",
       "    <tr>\n",
       "      <th>3</th>\n",
       "      <td>769911858</td>\n",
       "      <td>Existing Customer</td>\n",
       "      <td>40</td>\n",
       "      <td>F</td>\n",
       "      <td>4</td>\n",
       "      <td>High School</td>\n",
       "      <td>Unknown</td>\n",
       "      <td>Less than $40K</td>\n",
       "      <td>Blue</td>\n",
       "      <td>34</td>\n",
       "      <td>...</td>\n",
       "      <td>3313.0</td>\n",
       "      <td>2517</td>\n",
       "      <td>796.0</td>\n",
       "      <td>1.405</td>\n",
       "      <td>1171</td>\n",
       "      <td>20</td>\n",
       "      <td>2.333</td>\n",
       "      <td>0.760</td>\n",
       "      <td>0.000134</td>\n",
       "      <td>0.99987</td>\n",
       "    </tr>\n",
       "    <tr>\n",
       "      <th>4</th>\n",
       "      <td>709106358</td>\n",
       "      <td>Existing Customer</td>\n",
       "      <td>40</td>\n",
       "      <td>M</td>\n",
       "      <td>3</td>\n",
       "      <td>Uneducated</td>\n",
       "      <td>Married</td>\n",
       "      <td>$60K - $80K</td>\n",
       "      <td>Blue</td>\n",
       "      <td>21</td>\n",
       "      <td>...</td>\n",
       "      <td>4716.0</td>\n",
       "      <td>0</td>\n",
       "      <td>4716.0</td>\n",
       "      <td>2.175</td>\n",
       "      <td>816</td>\n",
       "      <td>28</td>\n",
       "      <td>2.500</td>\n",
       "      <td>0.000</td>\n",
       "      <td>0.000022</td>\n",
       "      <td>0.99998</td>\n",
       "    </tr>\n",
       "    <tr>\n",
       "      <th>5</th>\n",
       "      <td>713061558</td>\n",
       "      <td>Existing Customer</td>\n",
       "      <td>44</td>\n",
       "      <td>M</td>\n",
       "      <td>2</td>\n",
       "      <td>Graduate</td>\n",
       "      <td>Married</td>\n",
       "      <td>$40K - $60K</td>\n",
       "      <td>Blue</td>\n",
       "      <td>36</td>\n",
       "      <td>...</td>\n",
       "      <td>4010.0</td>\n",
       "      <td>1247</td>\n",
       "      <td>2763.0</td>\n",
       "      <td>1.376</td>\n",
       "      <td>1088</td>\n",
       "      <td>24</td>\n",
       "      <td>0.846</td>\n",
       "      <td>0.311</td>\n",
       "      <td>0.000055</td>\n",
       "      <td>0.99994</td>\n",
       "    </tr>\n",
       "    <tr>\n",
       "      <th>6</th>\n",
       "      <td>810347208</td>\n",
       "      <td>Existing Customer</td>\n",
       "      <td>51</td>\n",
       "      <td>M</td>\n",
       "      <td>4</td>\n",
       "      <td>Unknown</td>\n",
       "      <td>Married</td>\n",
       "      <td>$120K +</td>\n",
       "      <td>Gold</td>\n",
       "      <td>46</td>\n",
       "      <td>...</td>\n",
       "      <td>34516.0</td>\n",
       "      <td>2264</td>\n",
       "      <td>32252.0</td>\n",
       "      <td>1.975</td>\n",
       "      <td>1330</td>\n",
       "      <td>31</td>\n",
       "      <td>0.722</td>\n",
       "      <td>0.066</td>\n",
       "      <td>0.000123</td>\n",
       "      <td>0.99988</td>\n",
       "    </tr>\n",
       "    <tr>\n",
       "      <th>7</th>\n",
       "      <td>818906208</td>\n",
       "      <td>Existing Customer</td>\n",
       "      <td>32</td>\n",
       "      <td>M</td>\n",
       "      <td>0</td>\n",
       "      <td>High School</td>\n",
       "      <td>Unknown</td>\n",
       "      <td>$60K - $80K</td>\n",
       "      <td>Silver</td>\n",
       "      <td>27</td>\n",
       "      <td>...</td>\n",
       "      <td>29081.0</td>\n",
       "      <td>1396</td>\n",
       "      <td>27685.0</td>\n",
       "      <td>2.204</td>\n",
       "      <td>1538</td>\n",
       "      <td>36</td>\n",
       "      <td>0.714</td>\n",
       "      <td>0.048</td>\n",
       "      <td>0.000086</td>\n",
       "      <td>0.99991</td>\n",
       "    </tr>\n",
       "    <tr>\n",
       "      <th>8</th>\n",
       "      <td>710930508</td>\n",
       "      <td>Existing Customer</td>\n",
       "      <td>37</td>\n",
       "      <td>M</td>\n",
       "      <td>3</td>\n",
       "      <td>Uneducated</td>\n",
       "      <td>Single</td>\n",
       "      <td>$60K - $80K</td>\n",
       "      <td>Blue</td>\n",
       "      <td>36</td>\n",
       "      <td>...</td>\n",
       "      <td>22352.0</td>\n",
       "      <td>2517</td>\n",
       "      <td>19835.0</td>\n",
       "      <td>3.355</td>\n",
       "      <td>1350</td>\n",
       "      <td>24</td>\n",
       "      <td>1.182</td>\n",
       "      <td>0.113</td>\n",
       "      <td>0.000045</td>\n",
       "      <td>0.99996</td>\n",
       "    </tr>\n",
       "    <tr>\n",
       "      <th>9</th>\n",
       "      <td>719661558</td>\n",
       "      <td>Existing Customer</td>\n",
       "      <td>48</td>\n",
       "      <td>M</td>\n",
       "      <td>2</td>\n",
       "      <td>Graduate</td>\n",
       "      <td>Single</td>\n",
       "      <td>$80K - $120K</td>\n",
       "      <td>Blue</td>\n",
       "      <td>36</td>\n",
       "      <td>...</td>\n",
       "      <td>11656.0</td>\n",
       "      <td>1677</td>\n",
       "      <td>9979.0</td>\n",
       "      <td>1.524</td>\n",
       "      <td>1441</td>\n",
       "      <td>32</td>\n",
       "      <td>0.882</td>\n",
       "      <td>0.144</td>\n",
       "      <td>0.000303</td>\n",
       "      <td>0.99970</td>\n",
       "    </tr>\n",
       "  </tbody>\n",
       "</table>\n",
       "<p>10 rows × 23 columns</p>\n",
       "</div>"
      ],
      "text/plain": [
       "   CLIENTNUM     Attrition_Flag  Customer_Age Gender  Dependent_count  \\\n",
       "0  768805383  Existing Customer            45      M                3   \n",
       "1  818770008  Existing Customer            49      F                5   \n",
       "2  713982108  Existing Customer            51      M                3   \n",
       "3  769911858  Existing Customer            40      F                4   \n",
       "4  709106358  Existing Customer            40      M                3   \n",
       "5  713061558  Existing Customer            44      M                2   \n",
       "6  810347208  Existing Customer            51      M                4   \n",
       "7  818906208  Existing Customer            32      M                0   \n",
       "8  710930508  Existing Customer            37      M                3   \n",
       "9  719661558  Existing Customer            48      M                2   \n",
       "\n",
       "  Education_Level Marital_Status Income_Category Card_Category  \\\n",
       "0     High School        Married     $60K - $80K          Blue   \n",
       "1        Graduate         Single  Less than $40K          Blue   \n",
       "2        Graduate        Married    $80K - $120K          Blue   \n",
       "3     High School        Unknown  Less than $40K          Blue   \n",
       "4      Uneducated        Married     $60K - $80K          Blue   \n",
       "5        Graduate        Married     $40K - $60K          Blue   \n",
       "6         Unknown        Married         $120K +          Gold   \n",
       "7     High School        Unknown     $60K - $80K        Silver   \n",
       "8      Uneducated         Single     $60K - $80K          Blue   \n",
       "9        Graduate         Single    $80K - $120K          Blue   \n",
       "\n",
       "   Months_on_book  ...  Credit_Limit  Total_Revolving_Bal  Avg_Open_To_Buy  \\\n",
       "0              39  ...       12691.0                  777          11914.0   \n",
       "1              44  ...        8256.0                  864           7392.0   \n",
       "2              36  ...        3418.0                    0           3418.0   \n",
       "3              34  ...        3313.0                 2517            796.0   \n",
       "4              21  ...        4716.0                    0           4716.0   \n",
       "5              36  ...        4010.0                 1247           2763.0   \n",
       "6              46  ...       34516.0                 2264          32252.0   \n",
       "7              27  ...       29081.0                 1396          27685.0   \n",
       "8              36  ...       22352.0                 2517          19835.0   \n",
       "9              36  ...       11656.0                 1677           9979.0   \n",
       "\n",
       "   Total_Amt_Chng_Q4_Q1  Total_Trans_Amt  Total_Trans_Ct  Total_Ct_Chng_Q4_Q1  \\\n",
       "0                 1.335             1144              42                1.625   \n",
       "1                 1.541             1291              33                3.714   \n",
       "2                 2.594             1887              20                2.333   \n",
       "3                 1.405             1171              20                2.333   \n",
       "4                 2.175              816              28                2.500   \n",
       "5                 1.376             1088              24                0.846   \n",
       "6                 1.975             1330              31                0.722   \n",
       "7                 2.204             1538              36                0.714   \n",
       "8                 3.355             1350              24                1.182   \n",
       "9                 1.524             1441              32                0.882   \n",
       "\n",
       "   Avg_Utilization_Ratio  \\\n",
       "0                  0.061   \n",
       "1                  0.105   \n",
       "2                  0.000   \n",
       "3                  0.760   \n",
       "4                  0.000   \n",
       "5                  0.311   \n",
       "6                  0.066   \n",
       "7                  0.048   \n",
       "8                  0.113   \n",
       "9                  0.144   \n",
       "\n",
       "   Naive_Bayes_Classifier_Attrition_Flag_Card_Category_Contacts_Count_12_mon_Dependent_count_Education_Level_Months_Inactive_12_mon_1  \\\n",
       "0                                           0.000093                                                                                    \n",
       "1                                           0.000057                                                                                    \n",
       "2                                           0.000021                                                                                    \n",
       "3                                           0.000134                                                                                    \n",
       "4                                           0.000022                                                                                    \n",
       "5                                           0.000055                                                                                    \n",
       "6                                           0.000123                                                                                    \n",
       "7                                           0.000086                                                                                    \n",
       "8                                           0.000045                                                                                    \n",
       "9                                           0.000303                                                                                    \n",
       "\n",
       "   Naive_Bayes_Classifier_Attrition_Flag_Card_Category_Contacts_Count_12_mon_Dependent_count_Education_Level_Months_Inactive_12_mon_2  \n",
       "0                                            0.99991                                                                                   \n",
       "1                                            0.99994                                                                                   \n",
       "2                                            0.99998                                                                                   \n",
       "3                                            0.99987                                                                                   \n",
       "4                                            0.99998                                                                                   \n",
       "5                                            0.99994                                                                                   \n",
       "6                                            0.99988                                                                                   \n",
       "7                                            0.99991                                                                                   \n",
       "8                                            0.99996                                                                                   \n",
       "9                                            0.99970                                                                                   \n",
       "\n",
       "[10 rows x 23 columns]"
      ]
     },
     "execution_count": 3,
     "metadata": {},
     "output_type": "execute_result"
    }
   ],
   "source": [
    "#Data size\n",
    "print(data.shape)\n",
    "data.head(10)"
   ]
  },
  {
   "cell_type": "code",
   "execution_count": 4,
   "metadata": {
    "id": "n9JlKEIwfMt4",
    "outputId": "5cfa297d-e0c3-484a-c746-38aec19f4365"
   },
   "outputs": [
    {
     "data": {
      "text/plain": [
       "Existing Customer    8500\n",
       "Attrited Customer    1627\n",
       "Name: Attrition_Flag, dtype: int64"
      ]
     },
     "execution_count": 4,
     "metadata": {},
     "output_type": "execute_result"
    }
   ],
   "source": [
    "#Its an imbalanced data set\n",
    "data['Attrition_Flag'].value_counts()"
   ]
  },
  {
   "cell_type": "code",
   "execution_count": 5,
   "metadata": {
    "id": "752kWzBWfMt4"
   },
   "outputs": [],
   "source": [
    "#Attrition_Flag is the target column, removing the target column for X and keeping onlpy the target column for Y\n",
    "X = data.drop(columns=['Attrition_Flag'])\n",
    "y = data['Attrition_Flag']"
   ]
  },
  {
   "cell_type": "code",
   "execution_count": 6,
   "metadata": {
    "id": "QOYZHRx4fMt5"
   },
   "outputs": [],
   "source": [
    "#Splitting the datasets into train and test \n",
    "X_train, X_test, y_train, y_test = train_test_split(X, y, test_size=0.2, random_state=100,stratify=y)"
   ]
  },
  {
   "cell_type": "code",
   "execution_count": 7,
   "metadata": {
    "id": "Ybf71zNrfMt5"
   },
   "outputs": [],
   "source": [
    "#Keeping the column names in separate lists to drop, numerical columns and categorical columns\n",
    "cols_drop=  ['CLIENTNUM']\n",
    "cols_numeric = ['Customer_Age', 'Months_on_book','Total_Relationship_Count','Months_Inactive_12_mon','Credit_Limit','Total_Revolving_Bal','Avg_Open_To_Buy','Total_Amt_Chng_Q4_Q1','Total_Trans_Amt','Total_Ct_Chng_Q4_Q1','Avg_Utilization_Ratio']\n",
    "cols_categorical = ['Gender','Dependent_count', 'Education_Level', 'Marital_Status','Income_Category','Card_Category']"
   ]
  },
  {
   "cell_type": "code",
   "execution_count": 8,
   "metadata": {
    "id": "6XDVXa2ZfMt6",
    "outputId": "961e2728-7a32-4cc5-85b3-4cdef3b50178"
   },
   "outputs": [
    {
     "data": {
      "text/plain": [
       "CLIENTNUM                                                                                                                             0\n",
       "Attrition_Flag                                                                                                                        0\n",
       "Customer_Age                                                                                                                          0\n",
       "Gender                                                                                                                                0\n",
       "Dependent_count                                                                                                                       0\n",
       "Education_Level                                                                                                                       0\n",
       "Marital_Status                                                                                                                        0\n",
       "Income_Category                                                                                                                       0\n",
       "Card_Category                                                                                                                         0\n",
       "Months_on_book                                                                                                                        0\n",
       "Total_Relationship_Count                                                                                                              0\n",
       "Months_Inactive_12_mon                                                                                                                0\n",
       "Contacts_Count_12_mon                                                                                                                 0\n",
       "Credit_Limit                                                                                                                          0\n",
       "Total_Revolving_Bal                                                                                                                   0\n",
       "Avg_Open_To_Buy                                                                                                                       0\n",
       "Total_Amt_Chng_Q4_Q1                                                                                                                  0\n",
       "Total_Trans_Amt                                                                                                                       0\n",
       "Total_Trans_Ct                                                                                                                        0\n",
       "Total_Ct_Chng_Q4_Q1                                                                                                                   0\n",
       "Avg_Utilization_Ratio                                                                                                                 0\n",
       "Naive_Bayes_Classifier_Attrition_Flag_Card_Category_Contacts_Count_12_mon_Dependent_count_Education_Level_Months_Inactive_12_mon_1    0\n",
       "Naive_Bayes_Classifier_Attrition_Flag_Card_Category_Contacts_Count_12_mon_Dependent_count_Education_Level_Months_Inactive_12_mon_2    0\n",
       "dtype: int64"
      ]
     },
     "execution_count": 8,
     "metadata": {},
     "output_type": "execute_result"
    }
   ],
   "source": [
    "#Checking for missing values\n",
    "data.isna().sum()"
   ]
  },
  {
   "cell_type": "code",
   "execution_count": 9,
   "metadata": {
    "id": "PCg41Zy1fMt6"
   },
   "outputs": [],
   "source": [
    "#Scaling of numerical features can be included, since we are using tree based classification model we have not added\n",
    "#transformer_numeric - pipeline for handling missing values for numerical columns. \n",
    "transformer_numeric = Pipeline(steps=[\n",
    "                                     ('num_mean_imputer', SimpleImputer(strategy='mean')),\n",
    "                                     ])\n",
    "\n",
    "#One hot encoding of the categorical columns, we have kept Dependent_count column to be categorical \n",
    "transformer_categorical = Pipeline(steps=[\n",
    "                                         ('onehotencoding', OneHotEncoder(handle_unknown='ignore'))\n",
    "                                         ])"
   ]
  },
  {
   "cell_type": "code",
   "execution_count": 10,
   "metadata": {
    "id": "0jrbbPCYfMt7"
   },
   "outputs": [],
   "source": [
    "#Creating a column transformer to apply the missing value imputation for numerical columns, dropping column which we dont require,\n",
    "#and also for one hot encoding of the categorical columns. \n",
    "transformer_column = ColumnTransformer(transformers=[('drop_columns', 'drop', cols_drop),\n",
    "                                                   ('numeric_processing',transformer_numeric, cols_numeric),\n",
    "                                                    ('categorical_processing', transformer_categorical, cols_categorical)\n",
    "                                                  ], remainder='drop')"
   ]
  },
  {
   "cell_type": "code",
   "execution_count": 11,
   "metadata": {
    "id": "TqtEAEZxfMt8"
   },
   "outputs": [],
   "source": [
    "#Creating a first pipeline for data transformation. \n",
    "pipeline = Pipeline([\n",
    "                     ('transform_column', transformer_column),\n",
    "                    ])"
   ]
  },
  {
   "cell_type": "code",
   "execution_count": 12,
   "metadata": {
    "id": "_4dPGxUifMt9",
    "outputId": "e5004217-7599-4c5a-d0ea-082bd0410df8"
   },
   "outputs": [
    {
     "data": {
      "text/plain": [
       "Pipeline(steps=[('transform_column',\n",
       "                 ColumnTransformer(transformers=[('drop_columns', 'drop',\n",
       "                                                  ['CLIENTNUM']),\n",
       "                                                 ('numeric_processing',\n",
       "                                                  Pipeline(steps=[('num_mean_imputer',\n",
       "                                                                   SimpleImputer())]),\n",
       "                                                  ['Customer_Age',\n",
       "                                                   'Months_on_book',\n",
       "                                                   'Total_Relationship_Count',\n",
       "                                                   'Months_Inactive_12_mon',\n",
       "                                                   'Credit_Limit',\n",
       "                                                   'Total_Revolving_Bal',\n",
       "                                                   'Avg_Open_To_Buy',\n",
       "                                                   'Total_Amt_Chng_Q4_Q1',\n",
       "                                                   'Total_Trans_Amt',\n",
       "                                                   'Total_Ct_Chng_Q4_Q1',\n",
       "                                                   'Avg_Utilization_Ratio']),\n",
       "                                                 ('categorical_processing',\n",
       "                                                  Pipeline(steps=[('onehotencoding',\n",
       "                                                                   OneHotEncoder(handle_unknown='ignore'))]),\n",
       "                                                  ['Gender', 'Dependent_count',\n",
       "                                                   'Education_Level',\n",
       "                                                   'Marital_Status',\n",
       "                                                   'Income_Category',\n",
       "                                                   'Card_Category'])]))])"
      ]
     },
     "execution_count": 12,
     "metadata": {},
     "output_type": "execute_result"
    }
   ],
   "source": [
    "#applying fit method to extract the relevant information such as mean, and also other details from the categorical columns, \n",
    "pipeline.fit(X_train)"
   ]
  },
  {
   "cell_type": "code",
   "execution_count": 13,
   "metadata": {
    "id": "-X7sMmVbfMt9"
   },
   "outputs": [],
   "source": [
    "#Transforming the X_train dataset first\n",
    "X_train_transformed=pipeline.transform(X_train)"
   ]
  },
  {
   "cell_type": "code",
   "execution_count": 14,
   "metadata": {
    "id": "27HsbSCifMt-",
    "outputId": "6702e46b-8809-4421-c5ab-a48d0b117704"
   },
   "outputs": [
    {
     "data": {
      "text/plain": [
       "(8101, 40)"
      ]
     },
     "execution_count": 14,
     "metadata": {},
     "output_type": "execute_result"
    }
   ],
   "source": [
    "X_train_transformed.shape\n",
    "#Number of columns increased from 20 to 40 since we have applied one hot encoding on the categorical columns. "
   ]
  },
  {
   "cell_type": "code",
   "execution_count": 15,
   "metadata": {
    "id": "Qy4mlRb0fMt_"
   },
   "outputs": [
    {
     "name": "stdout",
     "output_type": "stream",
     "text": [
      "<class 'numpy.ndarray'>\n"
     ]
    }
   ],
   "source": [
    "print(type(X_train_transformed))"
   ]
  },
  {
   "cell_type": "code",
   "execution_count": 16,
   "metadata": {
    "id": "Qe4HD-31fMt_",
    "outputId": "b4dbf237-4211-44dc-ff07-a2eb872f08a7"
   },
   "outputs": [
    {
     "data": {
      "text/html": [
       "<div>\n",
       "<style scoped>\n",
       "    .dataframe tbody tr th:only-of-type {\n",
       "        vertical-align: middle;\n",
       "    }\n",
       "\n",
       "    .dataframe tbody tr th {\n",
       "        vertical-align: top;\n",
       "    }\n",
       "\n",
       "    .dataframe thead th {\n",
       "        text-align: right;\n",
       "    }\n",
       "</style>\n",
       "<table border=\"1\" class=\"dataframe\">\n",
       "  <thead>\n",
       "    <tr style=\"text-align: right;\">\n",
       "      <th></th>\n",
       "      <th>0</th>\n",
       "      <th>1</th>\n",
       "      <th>2</th>\n",
       "      <th>3</th>\n",
       "      <th>4</th>\n",
       "      <th>5</th>\n",
       "      <th>6</th>\n",
       "      <th>7</th>\n",
       "      <th>8</th>\n",
       "      <th>9</th>\n",
       "      <th>...</th>\n",
       "      <th>30</th>\n",
       "      <th>31</th>\n",
       "      <th>32</th>\n",
       "      <th>33</th>\n",
       "      <th>34</th>\n",
       "      <th>35</th>\n",
       "      <th>36</th>\n",
       "      <th>37</th>\n",
       "      <th>38</th>\n",
       "      <th>39</th>\n",
       "    </tr>\n",
       "  </thead>\n",
       "  <tbody>\n",
       "    <tr>\n",
       "      <th>0</th>\n",
       "      <td>40.0</td>\n",
       "      <td>34.0</td>\n",
       "      <td>2.0</td>\n",
       "      <td>1.0</td>\n",
       "      <td>34516.0</td>\n",
       "      <td>2052.0</td>\n",
       "      <td>32464.0</td>\n",
       "      <td>0.477</td>\n",
       "      <td>3510.0</td>\n",
       "      <td>0.476</td>\n",
       "      <td>...</td>\n",
       "      <td>0.0</td>\n",
       "      <td>0.0</td>\n",
       "      <td>0.0</td>\n",
       "      <td>1.0</td>\n",
       "      <td>0.0</td>\n",
       "      <td>0.0</td>\n",
       "      <td>0.0</td>\n",
       "      <td>0.0</td>\n",
       "      <td>0.0</td>\n",
       "      <td>1.0</td>\n",
       "    </tr>\n",
       "    <tr>\n",
       "      <th>1</th>\n",
       "      <td>60.0</td>\n",
       "      <td>47.0</td>\n",
       "      <td>6.0</td>\n",
       "      <td>3.0</td>\n",
       "      <td>3076.0</td>\n",
       "      <td>2257.0</td>\n",
       "      <td>819.0</td>\n",
       "      <td>0.795</td>\n",
       "      <td>4522.0</td>\n",
       "      <td>0.471</td>\n",
       "      <td>...</td>\n",
       "      <td>0.0</td>\n",
       "      <td>0.0</td>\n",
       "      <td>0.0</td>\n",
       "      <td>0.0</td>\n",
       "      <td>1.0</td>\n",
       "      <td>0.0</td>\n",
       "      <td>1.0</td>\n",
       "      <td>0.0</td>\n",
       "      <td>0.0</td>\n",
       "      <td>0.0</td>\n",
       "    </tr>\n",
       "    <tr>\n",
       "      <th>2</th>\n",
       "      <td>39.0</td>\n",
       "      <td>26.0</td>\n",
       "      <td>6.0</td>\n",
       "      <td>3.0</td>\n",
       "      <td>6423.0</td>\n",
       "      <td>0.0</td>\n",
       "      <td>6423.0</td>\n",
       "      <td>1.051</td>\n",
       "      <td>4295.0</td>\n",
       "      <td>0.795</td>\n",
       "      <td>...</td>\n",
       "      <td>0.0</td>\n",
       "      <td>1.0</td>\n",
       "      <td>0.0</td>\n",
       "      <td>0.0</td>\n",
       "      <td>0.0</td>\n",
       "      <td>0.0</td>\n",
       "      <td>1.0</td>\n",
       "      <td>0.0</td>\n",
       "      <td>0.0</td>\n",
       "      <td>0.0</td>\n",
       "    </tr>\n",
       "    <tr>\n",
       "      <th>3</th>\n",
       "      <td>46.0</td>\n",
       "      <td>37.0</td>\n",
       "      <td>2.0</td>\n",
       "      <td>3.0</td>\n",
       "      <td>5542.0</td>\n",
       "      <td>0.0</td>\n",
       "      <td>5542.0</td>\n",
       "      <td>0.808</td>\n",
       "      <td>8246.0</td>\n",
       "      <td>0.639</td>\n",
       "      <td>...</td>\n",
       "      <td>0.0</td>\n",
       "      <td>1.0</td>\n",
       "      <td>0.0</td>\n",
       "      <td>0.0</td>\n",
       "      <td>0.0</td>\n",
       "      <td>0.0</td>\n",
       "      <td>1.0</td>\n",
       "      <td>0.0</td>\n",
       "      <td>0.0</td>\n",
       "      <td>0.0</td>\n",
       "    </tr>\n",
       "    <tr>\n",
       "      <th>4</th>\n",
       "      <td>33.0</td>\n",
       "      <td>21.0</td>\n",
       "      <td>2.0</td>\n",
       "      <td>1.0</td>\n",
       "      <td>2831.0</td>\n",
       "      <td>1167.0</td>\n",
       "      <td>1664.0</td>\n",
       "      <td>0.744</td>\n",
       "      <td>4460.0</td>\n",
       "      <td>0.857</td>\n",
       "      <td>...</td>\n",
       "      <td>0.0</td>\n",
       "      <td>0.0</td>\n",
       "      <td>0.0</td>\n",
       "      <td>0.0</td>\n",
       "      <td>1.0</td>\n",
       "      <td>0.0</td>\n",
       "      <td>1.0</td>\n",
       "      <td>0.0</td>\n",
       "      <td>0.0</td>\n",
       "      <td>0.0</td>\n",
       "    </tr>\n",
       "    <tr>\n",
       "      <th>...</th>\n",
       "      <td>...</td>\n",
       "      <td>...</td>\n",
       "      <td>...</td>\n",
       "      <td>...</td>\n",
       "      <td>...</td>\n",
       "      <td>...</td>\n",
       "      <td>...</td>\n",
       "      <td>...</td>\n",
       "      <td>...</td>\n",
       "      <td>...</td>\n",
       "      <td>...</td>\n",
       "      <td>...</td>\n",
       "      <td>...</td>\n",
       "      <td>...</td>\n",
       "      <td>...</td>\n",
       "      <td>...</td>\n",
       "      <td>...</td>\n",
       "      <td>...</td>\n",
       "      <td>...</td>\n",
       "      <td>...</td>\n",
       "      <td>...</td>\n",
       "    </tr>\n",
       "    <tr>\n",
       "      <th>8096</th>\n",
       "      <td>52.0</td>\n",
       "      <td>38.0</td>\n",
       "      <td>4.0</td>\n",
       "      <td>2.0</td>\n",
       "      <td>12878.0</td>\n",
       "      <td>1628.0</td>\n",
       "      <td>11250.0</td>\n",
       "      <td>0.542</td>\n",
       "      <td>1968.0</td>\n",
       "      <td>0.735</td>\n",
       "      <td>...</td>\n",
       "      <td>0.0</td>\n",
       "      <td>0.0</td>\n",
       "      <td>0.0</td>\n",
       "      <td>1.0</td>\n",
       "      <td>0.0</td>\n",
       "      <td>0.0</td>\n",
       "      <td>1.0</td>\n",
       "      <td>0.0</td>\n",
       "      <td>0.0</td>\n",
       "      <td>0.0</td>\n",
       "    </tr>\n",
       "    <tr>\n",
       "      <th>8097</th>\n",
       "      <td>54.0</td>\n",
       "      <td>44.0</td>\n",
       "      <td>5.0</td>\n",
       "      <td>3.0</td>\n",
       "      <td>2921.0</td>\n",
       "      <td>2412.0</td>\n",
       "      <td>509.0</td>\n",
       "      <td>0.823</td>\n",
       "      <td>2612.0</td>\n",
       "      <td>0.375</td>\n",
       "      <td>...</td>\n",
       "      <td>0.0</td>\n",
       "      <td>0.0</td>\n",
       "      <td>0.0</td>\n",
       "      <td>0.0</td>\n",
       "      <td>1.0</td>\n",
       "      <td>0.0</td>\n",
       "      <td>1.0</td>\n",
       "      <td>0.0</td>\n",
       "      <td>0.0</td>\n",
       "      <td>0.0</td>\n",
       "    </tr>\n",
       "    <tr>\n",
       "      <th>8098</th>\n",
       "      <td>48.0</td>\n",
       "      <td>41.0</td>\n",
       "      <td>4.0</td>\n",
       "      <td>2.0</td>\n",
       "      <td>14322.0</td>\n",
       "      <td>0.0</td>\n",
       "      <td>14322.0</td>\n",
       "      <td>0.602</td>\n",
       "      <td>3993.0</td>\n",
       "      <td>0.531</td>\n",
       "      <td>...</td>\n",
       "      <td>0.0</td>\n",
       "      <td>0.0</td>\n",
       "      <td>0.0</td>\n",
       "      <td>1.0</td>\n",
       "      <td>0.0</td>\n",
       "      <td>0.0</td>\n",
       "      <td>1.0</td>\n",
       "      <td>0.0</td>\n",
       "      <td>0.0</td>\n",
       "      <td>0.0</td>\n",
       "    </tr>\n",
       "    <tr>\n",
       "      <th>8099</th>\n",
       "      <td>55.0</td>\n",
       "      <td>39.0</td>\n",
       "      <td>3.0</td>\n",
       "      <td>2.0</td>\n",
       "      <td>2426.0</td>\n",
       "      <td>1589.0</td>\n",
       "      <td>837.0</td>\n",
       "      <td>0.870</td>\n",
       "      <td>5175.0</td>\n",
       "      <td>0.822</td>\n",
       "      <td>...</td>\n",
       "      <td>0.0</td>\n",
       "      <td>0.0</td>\n",
       "      <td>0.0</td>\n",
       "      <td>0.0</td>\n",
       "      <td>1.0</td>\n",
       "      <td>0.0</td>\n",
       "      <td>1.0</td>\n",
       "      <td>0.0</td>\n",
       "      <td>0.0</td>\n",
       "      <td>0.0</td>\n",
       "    </tr>\n",
       "    <tr>\n",
       "      <th>8100</th>\n",
       "      <td>56.0</td>\n",
       "      <td>50.0</td>\n",
       "      <td>1.0</td>\n",
       "      <td>1.0</td>\n",
       "      <td>10214.0</td>\n",
       "      <td>1433.0</td>\n",
       "      <td>8781.0</td>\n",
       "      <td>0.640</td>\n",
       "      <td>4493.0</td>\n",
       "      <td>0.881</td>\n",
       "      <td>...</td>\n",
       "      <td>0.0</td>\n",
       "      <td>0.0</td>\n",
       "      <td>0.0</td>\n",
       "      <td>1.0</td>\n",
       "      <td>0.0</td>\n",
       "      <td>0.0</td>\n",
       "      <td>1.0</td>\n",
       "      <td>0.0</td>\n",
       "      <td>0.0</td>\n",
       "      <td>0.0</td>\n",
       "    </tr>\n",
       "  </tbody>\n",
       "</table>\n",
       "<p>8101 rows × 40 columns</p>\n",
       "</div>"
      ],
      "text/plain": [
       "        0     1    2    3        4       5        6      7       8      9   \\\n",
       "0     40.0  34.0  2.0  1.0  34516.0  2052.0  32464.0  0.477  3510.0  0.476   \n",
       "1     60.0  47.0  6.0  3.0   3076.0  2257.0    819.0  0.795  4522.0  0.471   \n",
       "2     39.0  26.0  6.0  3.0   6423.0     0.0   6423.0  1.051  4295.0  0.795   \n",
       "3     46.0  37.0  2.0  3.0   5542.0     0.0   5542.0  0.808  8246.0  0.639   \n",
       "4     33.0  21.0  2.0  1.0   2831.0  1167.0   1664.0  0.744  4460.0  0.857   \n",
       "...    ...   ...  ...  ...      ...     ...      ...    ...     ...    ...   \n",
       "8096  52.0  38.0  4.0  2.0  12878.0  1628.0  11250.0  0.542  1968.0  0.735   \n",
       "8097  54.0  44.0  5.0  3.0   2921.0  2412.0    509.0  0.823  2612.0  0.375   \n",
       "8098  48.0  41.0  4.0  2.0  14322.0     0.0  14322.0  0.602  3993.0  0.531   \n",
       "8099  55.0  39.0  3.0  2.0   2426.0  1589.0    837.0  0.870  5175.0  0.822   \n",
       "8100  56.0  50.0  1.0  1.0  10214.0  1433.0   8781.0  0.640  4493.0  0.881   \n",
       "\n",
       "      ...   30   31   32   33   34   35   36   37   38   39  \n",
       "0     ...  0.0  0.0  0.0  1.0  0.0  0.0  0.0  0.0  0.0  1.0  \n",
       "1     ...  0.0  0.0  0.0  0.0  1.0  0.0  1.0  0.0  0.0  0.0  \n",
       "2     ...  0.0  1.0  0.0  0.0  0.0  0.0  1.0  0.0  0.0  0.0  \n",
       "3     ...  0.0  1.0  0.0  0.0  0.0  0.0  1.0  0.0  0.0  0.0  \n",
       "4     ...  0.0  0.0  0.0  0.0  1.0  0.0  1.0  0.0  0.0  0.0  \n",
       "...   ...  ...  ...  ...  ...  ...  ...  ...  ...  ...  ...  \n",
       "8096  ...  0.0  0.0  0.0  1.0  0.0  0.0  1.0  0.0  0.0  0.0  \n",
       "8097  ...  0.0  0.0  0.0  0.0  1.0  0.0  1.0  0.0  0.0  0.0  \n",
       "8098  ...  0.0  0.0  0.0  1.0  0.0  0.0  1.0  0.0  0.0  0.0  \n",
       "8099  ...  0.0  0.0  0.0  0.0  1.0  0.0  1.0  0.0  0.0  0.0  \n",
       "8100  ...  0.0  0.0  0.0  1.0  0.0  0.0  1.0  0.0  0.0  0.0  \n",
       "\n",
       "[8101 rows x 40 columns]"
      ]
     },
     "execution_count": 16,
     "metadata": {},
     "output_type": "execute_result"
    }
   ],
   "source": [
    "pd.DataFrame(X_train_transformed)\n",
    "#Once we have applied the transformation everything will be in a numpy array, and hence colum names will be not be present."
   ]
  },
  {
   "cell_type": "code",
   "execution_count": 17,
   "metadata": {
    "id": "lR4KNLzqfMuA",
    "outputId": "5cfa1c90-e458-4bba-9449-c3608bf373fa"
   },
   "outputs": [
    {
     "data": {
      "text/plain": [
       "array([[46., 35.,  4., ...,  0.,  0.,  0.],\n",
       "       [47., 35.,  4., ...,  0.,  0.,  0.],\n",
       "       [41., 28.,  4., ...,  0.,  0.,  0.],\n",
       "       ...,\n",
       "       [35., 31.,  2., ...,  0.,  0.,  0.],\n",
       "       [54., 36.,  2., ...,  0.,  0.,  0.],\n",
       "       [42., 37.,  1., ...,  0.,  0.,  0.]])"
      ]
     },
     "execution_count": 17,
     "metadata": {},
     "output_type": "execute_result"
    }
   ],
   "source": [
    "#Transforming the X_test dataset\n",
    "pipeline.transform(X_test)\n"
   ]
  },
  {
   "cell_type": "code",
   "execution_count": 18,
   "metadata": {
    "id": "dRUYocunfMuA",
    "outputId": "13a399b5-5f3c-4061-ed1d-2c377e88b7c3"
   },
   "outputs": [
    {
     "data": {
      "text/plain": [
       "['Gender_F',\n",
       " 'Gender_M',\n",
       " 'Dependent_count_0',\n",
       " 'Dependent_count_1',\n",
       " 'Dependent_count_2',\n",
       " 'Dependent_count_3',\n",
       " 'Dependent_count_4',\n",
       " 'Dependent_count_5',\n",
       " 'Education_Level_College',\n",
       " 'Education_Level_Doctorate',\n",
       " 'Education_Level_Graduate',\n",
       " 'Education_Level_High School',\n",
       " 'Education_Level_Post-Graduate',\n",
       " 'Education_Level_Uneducated',\n",
       " 'Education_Level_Unknown',\n",
       " 'Marital_Status_Divorced',\n",
       " 'Marital_Status_Married',\n",
       " 'Marital_Status_Single',\n",
       " 'Marital_Status_Unknown',\n",
       " 'Income_Category_$120K +',\n",
       " 'Income_Category_$40K - $60K',\n",
       " 'Income_Category_$60K - $80K',\n",
       " 'Income_Category_$80K - $120K',\n",
       " 'Income_Category_Less than $40K',\n",
       " 'Income_Category_Unknown',\n",
       " 'Card_Category_Blue',\n",
       " 'Card_Category_Gold',\n",
       " 'Card_Category_Platinum',\n",
       " 'Card_Category_Silver']"
      ]
     },
     "execution_count": 18,
     "metadata": {},
     "output_type": "execute_result"
    }
   ],
   "source": [
    "#col_categorical=pipeline.named_steps['transform_column'].transformers_[2][1].named_steps['onehotencoding'].get_feature_names(cols_categorical)\n",
    "col_categorical=pipeline.named_steps['transform_column'].transformers_[2][1].named_steps['onehotencoding'].get_feature_names(cols_categorical)\n",
    "col_categorical.tolist()"
   ]
  },
  {
   "cell_type": "code",
   "execution_count": 19,
   "metadata": {
    "id": "qQuPc2uDfMuB",
    "outputId": "7a06aea3-3c8f-4b38-b654-2ce21cf3ba15"
   },
   "outputs": [
    {
     "data": {
      "text/plain": [
       "['Customer_Age',\n",
       " 'Months_on_book',\n",
       " 'Total_Relationship_Count',\n",
       " 'Months_Inactive_12_mon',\n",
       " 'Credit_Limit',\n",
       " 'Total_Revolving_Bal',\n",
       " 'Avg_Open_To_Buy',\n",
       " 'Total_Amt_Chng_Q4_Q1',\n",
       " 'Total_Trans_Amt',\n",
       " 'Total_Ct_Chng_Q4_Q1',\n",
       " 'Avg_Utilization_Ratio',\n",
       " 'Gender_F',\n",
       " 'Gender_M',\n",
       " 'Dependent_count_0',\n",
       " 'Dependent_count_1',\n",
       " 'Dependent_count_2',\n",
       " 'Dependent_count_3',\n",
       " 'Dependent_count_4',\n",
       " 'Dependent_count_5',\n",
       " 'Education_Level_College',\n",
       " 'Education_Level_Doctorate',\n",
       " 'Education_Level_Graduate',\n",
       " 'Education_Level_High School',\n",
       " 'Education_Level_Post-Graduate',\n",
       " 'Education_Level_Uneducated',\n",
       " 'Education_Level_Unknown',\n",
       " 'Marital_Status_Divorced',\n",
       " 'Marital_Status_Married',\n",
       " 'Marital_Status_Single',\n",
       " 'Marital_Status_Unknown',\n",
       " 'Income_Category_$120K +',\n",
       " 'Income_Category_$40K - $60K',\n",
       " 'Income_Category_$60K - $80K',\n",
       " 'Income_Category_$80K - $120K',\n",
       " 'Income_Category_Less than $40K',\n",
       " 'Income_Category_Unknown',\n",
       " 'Card_Category_Blue',\n",
       " 'Card_Category_Gold',\n",
       " 'Card_Category_Platinum',\n",
       " 'Card_Category_Silver']"
      ]
     },
     "execution_count": 19,
     "metadata": {},
     "output_type": "execute_result"
    }
   ],
   "source": [
    "new_col_names=cols_numeric+col_categorical.tolist()\n",
    "new_col_names"
   ]
  },
  {
   "cell_type": "code",
   "execution_count": 20,
   "metadata": {
    "id": "W6P8K3RGfMuC",
    "outputId": "caf488df-45a7-49b2-c483-9832d7972e50"
   },
   "outputs": [
    {
     "data": {
      "text/html": [
       "<div>\n",
       "<style scoped>\n",
       "    .dataframe tbody tr th:only-of-type {\n",
       "        vertical-align: middle;\n",
       "    }\n",
       "\n",
       "    .dataframe tbody tr th {\n",
       "        vertical-align: top;\n",
       "    }\n",
       "\n",
       "    .dataframe thead th {\n",
       "        text-align: right;\n",
       "    }\n",
       "</style>\n",
       "<table border=\"1\" class=\"dataframe\">\n",
       "  <thead>\n",
       "    <tr style=\"text-align: right;\">\n",
       "      <th></th>\n",
       "      <th>Customer_Age</th>\n",
       "      <th>Months_on_book</th>\n",
       "      <th>Total_Relationship_Count</th>\n",
       "      <th>Months_Inactive_12_mon</th>\n",
       "      <th>Credit_Limit</th>\n",
       "      <th>Total_Revolving_Bal</th>\n",
       "      <th>Avg_Open_To_Buy</th>\n",
       "      <th>Total_Amt_Chng_Q4_Q1</th>\n",
       "      <th>Total_Trans_Amt</th>\n",
       "      <th>Total_Ct_Chng_Q4_Q1</th>\n",
       "      <th>...</th>\n",
       "      <th>Income_Category_$120K +</th>\n",
       "      <th>Income_Category_$40K - $60K</th>\n",
       "      <th>Income_Category_$60K - $80K</th>\n",
       "      <th>Income_Category_$80K - $120K</th>\n",
       "      <th>Income_Category_Less than $40K</th>\n",
       "      <th>Income_Category_Unknown</th>\n",
       "      <th>Card_Category_Blue</th>\n",
       "      <th>Card_Category_Gold</th>\n",
       "      <th>Card_Category_Platinum</th>\n",
       "      <th>Card_Category_Silver</th>\n",
       "    </tr>\n",
       "  </thead>\n",
       "  <tbody>\n",
       "    <tr>\n",
       "      <th>0</th>\n",
       "      <td>40.0</td>\n",
       "      <td>34.0</td>\n",
       "      <td>2.0</td>\n",
       "      <td>1.0</td>\n",
       "      <td>34516.0</td>\n",
       "      <td>2052.0</td>\n",
       "      <td>32464.0</td>\n",
       "      <td>0.477</td>\n",
       "      <td>3510.0</td>\n",
       "      <td>0.476</td>\n",
       "      <td>...</td>\n",
       "      <td>0.0</td>\n",
       "      <td>0.0</td>\n",
       "      <td>0.0</td>\n",
       "      <td>1.0</td>\n",
       "      <td>0.0</td>\n",
       "      <td>0.0</td>\n",
       "      <td>0.0</td>\n",
       "      <td>0.0</td>\n",
       "      <td>0.0</td>\n",
       "      <td>1.0</td>\n",
       "    </tr>\n",
       "    <tr>\n",
       "      <th>1</th>\n",
       "      <td>60.0</td>\n",
       "      <td>47.0</td>\n",
       "      <td>6.0</td>\n",
       "      <td>3.0</td>\n",
       "      <td>3076.0</td>\n",
       "      <td>2257.0</td>\n",
       "      <td>819.0</td>\n",
       "      <td>0.795</td>\n",
       "      <td>4522.0</td>\n",
       "      <td>0.471</td>\n",
       "      <td>...</td>\n",
       "      <td>0.0</td>\n",
       "      <td>0.0</td>\n",
       "      <td>0.0</td>\n",
       "      <td>0.0</td>\n",
       "      <td>1.0</td>\n",
       "      <td>0.0</td>\n",
       "      <td>1.0</td>\n",
       "      <td>0.0</td>\n",
       "      <td>0.0</td>\n",
       "      <td>0.0</td>\n",
       "    </tr>\n",
       "    <tr>\n",
       "      <th>2</th>\n",
       "      <td>39.0</td>\n",
       "      <td>26.0</td>\n",
       "      <td>6.0</td>\n",
       "      <td>3.0</td>\n",
       "      <td>6423.0</td>\n",
       "      <td>0.0</td>\n",
       "      <td>6423.0</td>\n",
       "      <td>1.051</td>\n",
       "      <td>4295.0</td>\n",
       "      <td>0.795</td>\n",
       "      <td>...</td>\n",
       "      <td>0.0</td>\n",
       "      <td>1.0</td>\n",
       "      <td>0.0</td>\n",
       "      <td>0.0</td>\n",
       "      <td>0.0</td>\n",
       "      <td>0.0</td>\n",
       "      <td>1.0</td>\n",
       "      <td>0.0</td>\n",
       "      <td>0.0</td>\n",
       "      <td>0.0</td>\n",
       "    </tr>\n",
       "    <tr>\n",
       "      <th>3</th>\n",
       "      <td>46.0</td>\n",
       "      <td>37.0</td>\n",
       "      <td>2.0</td>\n",
       "      <td>3.0</td>\n",
       "      <td>5542.0</td>\n",
       "      <td>0.0</td>\n",
       "      <td>5542.0</td>\n",
       "      <td>0.808</td>\n",
       "      <td>8246.0</td>\n",
       "      <td>0.639</td>\n",
       "      <td>...</td>\n",
       "      <td>0.0</td>\n",
       "      <td>1.0</td>\n",
       "      <td>0.0</td>\n",
       "      <td>0.0</td>\n",
       "      <td>0.0</td>\n",
       "      <td>0.0</td>\n",
       "      <td>1.0</td>\n",
       "      <td>0.0</td>\n",
       "      <td>0.0</td>\n",
       "      <td>0.0</td>\n",
       "    </tr>\n",
       "    <tr>\n",
       "      <th>4</th>\n",
       "      <td>33.0</td>\n",
       "      <td>21.0</td>\n",
       "      <td>2.0</td>\n",
       "      <td>1.0</td>\n",
       "      <td>2831.0</td>\n",
       "      <td>1167.0</td>\n",
       "      <td>1664.0</td>\n",
       "      <td>0.744</td>\n",
       "      <td>4460.0</td>\n",
       "      <td>0.857</td>\n",
       "      <td>...</td>\n",
       "      <td>0.0</td>\n",
       "      <td>0.0</td>\n",
       "      <td>0.0</td>\n",
       "      <td>0.0</td>\n",
       "      <td>1.0</td>\n",
       "      <td>0.0</td>\n",
       "      <td>1.0</td>\n",
       "      <td>0.0</td>\n",
       "      <td>0.0</td>\n",
       "      <td>0.0</td>\n",
       "    </tr>\n",
       "    <tr>\n",
       "      <th>...</th>\n",
       "      <td>...</td>\n",
       "      <td>...</td>\n",
       "      <td>...</td>\n",
       "      <td>...</td>\n",
       "      <td>...</td>\n",
       "      <td>...</td>\n",
       "      <td>...</td>\n",
       "      <td>...</td>\n",
       "      <td>...</td>\n",
       "      <td>...</td>\n",
       "      <td>...</td>\n",
       "      <td>...</td>\n",
       "      <td>...</td>\n",
       "      <td>...</td>\n",
       "      <td>...</td>\n",
       "      <td>...</td>\n",
       "      <td>...</td>\n",
       "      <td>...</td>\n",
       "      <td>...</td>\n",
       "      <td>...</td>\n",
       "      <td>...</td>\n",
       "    </tr>\n",
       "    <tr>\n",
       "      <th>8096</th>\n",
       "      <td>52.0</td>\n",
       "      <td>38.0</td>\n",
       "      <td>4.0</td>\n",
       "      <td>2.0</td>\n",
       "      <td>12878.0</td>\n",
       "      <td>1628.0</td>\n",
       "      <td>11250.0</td>\n",
       "      <td>0.542</td>\n",
       "      <td>1968.0</td>\n",
       "      <td>0.735</td>\n",
       "      <td>...</td>\n",
       "      <td>0.0</td>\n",
       "      <td>0.0</td>\n",
       "      <td>0.0</td>\n",
       "      <td>1.0</td>\n",
       "      <td>0.0</td>\n",
       "      <td>0.0</td>\n",
       "      <td>1.0</td>\n",
       "      <td>0.0</td>\n",
       "      <td>0.0</td>\n",
       "      <td>0.0</td>\n",
       "    </tr>\n",
       "    <tr>\n",
       "      <th>8097</th>\n",
       "      <td>54.0</td>\n",
       "      <td>44.0</td>\n",
       "      <td>5.0</td>\n",
       "      <td>3.0</td>\n",
       "      <td>2921.0</td>\n",
       "      <td>2412.0</td>\n",
       "      <td>509.0</td>\n",
       "      <td>0.823</td>\n",
       "      <td>2612.0</td>\n",
       "      <td>0.375</td>\n",
       "      <td>...</td>\n",
       "      <td>0.0</td>\n",
       "      <td>0.0</td>\n",
       "      <td>0.0</td>\n",
       "      <td>0.0</td>\n",
       "      <td>1.0</td>\n",
       "      <td>0.0</td>\n",
       "      <td>1.0</td>\n",
       "      <td>0.0</td>\n",
       "      <td>0.0</td>\n",
       "      <td>0.0</td>\n",
       "    </tr>\n",
       "    <tr>\n",
       "      <th>8098</th>\n",
       "      <td>48.0</td>\n",
       "      <td>41.0</td>\n",
       "      <td>4.0</td>\n",
       "      <td>2.0</td>\n",
       "      <td>14322.0</td>\n",
       "      <td>0.0</td>\n",
       "      <td>14322.0</td>\n",
       "      <td>0.602</td>\n",
       "      <td>3993.0</td>\n",
       "      <td>0.531</td>\n",
       "      <td>...</td>\n",
       "      <td>0.0</td>\n",
       "      <td>0.0</td>\n",
       "      <td>0.0</td>\n",
       "      <td>1.0</td>\n",
       "      <td>0.0</td>\n",
       "      <td>0.0</td>\n",
       "      <td>1.0</td>\n",
       "      <td>0.0</td>\n",
       "      <td>0.0</td>\n",
       "      <td>0.0</td>\n",
       "    </tr>\n",
       "    <tr>\n",
       "      <th>8099</th>\n",
       "      <td>55.0</td>\n",
       "      <td>39.0</td>\n",
       "      <td>3.0</td>\n",
       "      <td>2.0</td>\n",
       "      <td>2426.0</td>\n",
       "      <td>1589.0</td>\n",
       "      <td>837.0</td>\n",
       "      <td>0.870</td>\n",
       "      <td>5175.0</td>\n",
       "      <td>0.822</td>\n",
       "      <td>...</td>\n",
       "      <td>0.0</td>\n",
       "      <td>0.0</td>\n",
       "      <td>0.0</td>\n",
       "      <td>0.0</td>\n",
       "      <td>1.0</td>\n",
       "      <td>0.0</td>\n",
       "      <td>1.0</td>\n",
       "      <td>0.0</td>\n",
       "      <td>0.0</td>\n",
       "      <td>0.0</td>\n",
       "    </tr>\n",
       "    <tr>\n",
       "      <th>8100</th>\n",
       "      <td>56.0</td>\n",
       "      <td>50.0</td>\n",
       "      <td>1.0</td>\n",
       "      <td>1.0</td>\n",
       "      <td>10214.0</td>\n",
       "      <td>1433.0</td>\n",
       "      <td>8781.0</td>\n",
       "      <td>0.640</td>\n",
       "      <td>4493.0</td>\n",
       "      <td>0.881</td>\n",
       "      <td>...</td>\n",
       "      <td>0.0</td>\n",
       "      <td>0.0</td>\n",
       "      <td>0.0</td>\n",
       "      <td>1.0</td>\n",
       "      <td>0.0</td>\n",
       "      <td>0.0</td>\n",
       "      <td>1.0</td>\n",
       "      <td>0.0</td>\n",
       "      <td>0.0</td>\n",
       "      <td>0.0</td>\n",
       "    </tr>\n",
       "  </tbody>\n",
       "</table>\n",
       "<p>8101 rows × 40 columns</p>\n",
       "</div>"
      ],
      "text/plain": [
       "      Customer_Age  Months_on_book  Total_Relationship_Count  \\\n",
       "0             40.0            34.0                       2.0   \n",
       "1             60.0            47.0                       6.0   \n",
       "2             39.0            26.0                       6.0   \n",
       "3             46.0            37.0                       2.0   \n",
       "4             33.0            21.0                       2.0   \n",
       "...            ...             ...                       ...   \n",
       "8096          52.0            38.0                       4.0   \n",
       "8097          54.0            44.0                       5.0   \n",
       "8098          48.0            41.0                       4.0   \n",
       "8099          55.0            39.0                       3.0   \n",
       "8100          56.0            50.0                       1.0   \n",
       "\n",
       "      Months_Inactive_12_mon  Credit_Limit  Total_Revolving_Bal  \\\n",
       "0                        1.0       34516.0               2052.0   \n",
       "1                        3.0        3076.0               2257.0   \n",
       "2                        3.0        6423.0                  0.0   \n",
       "3                        3.0        5542.0                  0.0   \n",
       "4                        1.0        2831.0               1167.0   \n",
       "...                      ...           ...                  ...   \n",
       "8096                     2.0       12878.0               1628.0   \n",
       "8097                     3.0        2921.0               2412.0   \n",
       "8098                     2.0       14322.0                  0.0   \n",
       "8099                     2.0        2426.0               1589.0   \n",
       "8100                     1.0       10214.0               1433.0   \n",
       "\n",
       "      Avg_Open_To_Buy  Total_Amt_Chng_Q4_Q1  Total_Trans_Amt  \\\n",
       "0             32464.0                 0.477           3510.0   \n",
       "1               819.0                 0.795           4522.0   \n",
       "2              6423.0                 1.051           4295.0   \n",
       "3              5542.0                 0.808           8246.0   \n",
       "4              1664.0                 0.744           4460.0   \n",
       "...               ...                   ...              ...   \n",
       "8096          11250.0                 0.542           1968.0   \n",
       "8097            509.0                 0.823           2612.0   \n",
       "8098          14322.0                 0.602           3993.0   \n",
       "8099            837.0                 0.870           5175.0   \n",
       "8100           8781.0                 0.640           4493.0   \n",
       "\n",
       "      Total_Ct_Chng_Q4_Q1  ...  Income_Category_$120K +  \\\n",
       "0                   0.476  ...                      0.0   \n",
       "1                   0.471  ...                      0.0   \n",
       "2                   0.795  ...                      0.0   \n",
       "3                   0.639  ...                      0.0   \n",
       "4                   0.857  ...                      0.0   \n",
       "...                   ...  ...                      ...   \n",
       "8096                0.735  ...                      0.0   \n",
       "8097                0.375  ...                      0.0   \n",
       "8098                0.531  ...                      0.0   \n",
       "8099                0.822  ...                      0.0   \n",
       "8100                0.881  ...                      0.0   \n",
       "\n",
       "      Income_Category_$40K - $60K  Income_Category_$60K - $80K  \\\n",
       "0                             0.0                          0.0   \n",
       "1                             0.0                          0.0   \n",
       "2                             1.0                          0.0   \n",
       "3                             1.0                          0.0   \n",
       "4                             0.0                          0.0   \n",
       "...                           ...                          ...   \n",
       "8096                          0.0                          0.0   \n",
       "8097                          0.0                          0.0   \n",
       "8098                          0.0                          0.0   \n",
       "8099                          0.0                          0.0   \n",
       "8100                          0.0                          0.0   \n",
       "\n",
       "      Income_Category_$80K - $120K  Income_Category_Less than $40K  \\\n",
       "0                              1.0                             0.0   \n",
       "1                              0.0                             1.0   \n",
       "2                              0.0                             0.0   \n",
       "3                              0.0                             0.0   \n",
       "4                              0.0                             1.0   \n",
       "...                            ...                             ...   \n",
       "8096                           1.0                             0.0   \n",
       "8097                           0.0                             1.0   \n",
       "8098                           1.0                             0.0   \n",
       "8099                           0.0                             1.0   \n",
       "8100                           1.0                             0.0   \n",
       "\n",
       "      Income_Category_Unknown  Card_Category_Blue  Card_Category_Gold  \\\n",
       "0                         0.0                 0.0                 0.0   \n",
       "1                         0.0                 1.0                 0.0   \n",
       "2                         0.0                 1.0                 0.0   \n",
       "3                         0.0                 1.0                 0.0   \n",
       "4                         0.0                 1.0                 0.0   \n",
       "...                       ...                 ...                 ...   \n",
       "8096                      0.0                 1.0                 0.0   \n",
       "8097                      0.0                 1.0                 0.0   \n",
       "8098                      0.0                 1.0                 0.0   \n",
       "8099                      0.0                 1.0                 0.0   \n",
       "8100                      0.0                 1.0                 0.0   \n",
       "\n",
       "      Card_Category_Platinum  Card_Category_Silver  \n",
       "0                        0.0                   1.0  \n",
       "1                        0.0                   0.0  \n",
       "2                        0.0                   0.0  \n",
       "3                        0.0                   0.0  \n",
       "4                        0.0                   0.0  \n",
       "...                      ...                   ...  \n",
       "8096                     0.0                   0.0  \n",
       "8097                     0.0                   0.0  \n",
       "8098                     0.0                   0.0  \n",
       "8099                     0.0                   0.0  \n",
       "8100                     0.0                   0.0  \n",
       "\n",
       "[8101 rows x 40 columns]"
      ]
     },
     "execution_count": 20,
     "metadata": {},
     "output_type": "execute_result"
    }
   ],
   "source": [
    "#To get the column names after the one hot encoding. \n",
    "pd.DataFrame(X_train_transformed, columns=new_col_names)"
   ]
  },
  {
   "cell_type": "code",
   "execution_count": 21,
   "metadata": {
    "id": "BoUeArYXfMuD",
    "outputId": "5b265606-3112-4be2-92ad-a150d7f5a588"
   },
   "outputs": [
    {
     "name": "stdout",
     "output_type": "stream",
     "text": [
      "6799\n",
      "1302\n"
     ]
    }
   ],
   "source": [
    "print(y_train.value_counts()[0])\n",
    "print(y_train.value_counts()[1])\n",
    "#It is an imbalanced dataset,"
   ]
  },
  {
   "cell_type": "code",
   "execution_count": 22,
   "metadata": {
    "id": "SIjBjMRQfMuD"
   },
   "outputs": [
    {
     "name": "stdout",
     "output_type": "stream",
     "text": [
      "5.221966205837173\n"
     ]
    }
   ],
   "source": [
    "imbalance_ratio=y_train.value_counts()[0]/y_train.value_counts()[1]\n",
    "print(imbalance_ratio)"
   ]
  },
  {
   "cell_type": "code",
   "execution_count": 23,
   "metadata": {
    "id": "bbVGE4QlfMuE"
   },
   "outputs": [],
   "source": [
    "pipeline_xgb = Pipeline([\n",
    "                     ('transform_column', transformer_column),\n",
    "                     ('xgboost', xgb.XGBClassifier(scale_pos_weight=imbalance_ratio))])"
   ]
  },
  {
   "cell_type": "code",
   "execution_count": 24,
   "metadata": {
    "id": "lvCCkuHefMuF",
    "outputId": "040e49c9-3379-4279-ffb4-fd7aebe6d890"
   },
   "outputs": [
    {
     "data": {
      "text/plain": [
       "Pipeline(steps=[('transform_column',\n",
       "                 ColumnTransformer(transformers=[('drop_columns', 'drop',\n",
       "                                                  ['CLIENTNUM']),\n",
       "                                                 ('numeric_processing',\n",
       "                                                  Pipeline(steps=[('num_mean_imputer',\n",
       "                                                                   SimpleImputer())]),\n",
       "                                                  ['Customer_Age',\n",
       "                                                   'Months_on_book',\n",
       "                                                   'Total_Relationship_Count',\n",
       "                                                   'Months_Inactive_12_mon',\n",
       "                                                   'Credit_Limit',\n",
       "                                                   'Total_Revolving_Bal',\n",
       "                                                   'Avg_Open_To_Buy',\n",
       "                                                   'Total_Amt_Chng_Q4_Q1',\n",
       "                                                   'Total_Trans_Amt',\n",
       "                                                   'Total_Ct_Chng_Q4_Q1',\n",
       "                                                   'Avg_Utilization_Ratio']),\n",
       "                                                 ('categorical_processing',\n",
       "                                                  Pipeline(steps=[('onehotencoding',\n",
       "                                                                   OneHotEncoder(handle_unknown='ignore'))]),\n",
       "                                                  ['Gender', 'Dependent_count',\n",
       "                                                   'Education_Level',\n",
       "                                                   'Marital_Status',\n",
       "                                                   'Income_Category',\n",
       "                                                   'Card_Category'])])),\n",
       "                ('xgboost', XGBClassifier(scale_pos_weight=5.221966205837173))])"
      ]
     },
     "execution_count": 24,
     "metadata": {},
     "output_type": "execute_result"
    }
   ],
   "source": [
    "pipeline_xgb.fit(X_train,y_train)"
   ]
  },
  {
   "cell_type": "code",
   "execution_count": 25,
   "metadata": {
    "id": "7rf6TfwsfMuG",
    "outputId": "b05125ae-e031-42cb-b47b-6a30e845ac1f"
   },
   "outputs": [
    {
     "data": {
      "text/plain": [
       "0.9299111549851925"
      ]
     },
     "execution_count": 25,
     "metadata": {},
     "output_type": "execute_result"
    }
   ],
   "source": [
    "pipeline_xgb.score(X_test,y_test)"
   ]
  },
  {
   "cell_type": "code",
   "execution_count": 26,
   "metadata": {
    "id": "RYbZ_yZ5fMuH"
   },
   "outputs": [
    {
     "name": "stdout",
     "output_type": "stream",
     "text": [
      "['Existing Customer' 'Existing Customer' 'Existing Customer' ...\n",
      " 'Existing Customer' 'Existing Customer' 'Existing Customer']\n"
     ]
    }
   ],
   "source": [
    "y_predicted = pipeline_xgb.predict(X_test)\n",
    "print(y_predicted)"
   ]
  },
  {
   "cell_type": "code",
   "execution_count": 27,
   "metadata": {
    "id": "VuNyLZflfMuH",
    "outputId": "aa5a41e8-b0c0-4069-b366-32db1cdcf38a"
   },
   "outputs": [
    {
     "data": {
      "text/plain": [
       "array([[ 186,  139],\n",
       "       [   3, 1698]])"
      ]
     },
     "execution_count": 27,
     "metadata": {},
     "output_type": "execute_result"
    }
   ],
   "source": [
    "confusion_matrix(y_test, y_predicted)"
   ]
  },
  {
   "cell_type": "code",
   "execution_count": 28,
   "metadata": {
    "id": "PWxjw2mlfMuH",
    "outputId": "5cefbcbb-be65-4ad6-d082-7d22b49e4623"
   },
   "outputs": [
    {
     "name": "stdout",
     "output_type": "stream",
     "text": [
      "                   precision    recall  f1-score   support\n",
      "\n",
      "Existing Customer       0.92      1.00      0.96      1701\n",
      "Attrited Customer       0.98      0.57      0.72       325\n",
      "\n",
      "         accuracy                           0.93      2026\n",
      "        macro avg       0.95      0.79      0.84      2026\n",
      "     weighted avg       0.93      0.93      0.92      2026\n",
      "\n"
     ]
    }
   ],
   "source": [
    "print(classification_report(y_test, y_predicted, labels=['Existing Customer','Attrited Customer']))"
   ]
  },
  {
   "cell_type": "code",
   "execution_count": 29,
   "metadata": {
    "id": "8QOOiEZsfMuI",
    "outputId": "1323ce58-4462-4af4-f634-f3c1f2e8114f"
   },
   "outputs": [
    {
     "data": {
      "text/plain": [
       "XGBClassifier(scale_pos_weight=5.221966205837173)"
      ]
     },
     "execution_count": 29,
     "metadata": {},
     "output_type": "execute_result"
    }
   ],
   "source": [
    "model=pipeline_xgb.named_steps['xgboost']\n",
    "model"
   ]
  },
  {
   "cell_type": "code",
   "execution_count": 30,
   "metadata": {
    "id": "D4wFiKb4fMuI"
   },
   "outputs": [],
   "source": [
    "def plotImp(model, X , num = 20):\n",
    "    feature_imp = pd.DataFrame({'Value':model.feature_importances_,'Feature':X})\n",
    "    plt.figure(figsize=(40, 20))\n",
    "    sns.set(font_scale = 3)\n",
    "    sns.barplot(x=\"Value\", y=\"Feature\", data=feature_imp.sort_values(by=\"Value\", \n",
    "                                                        ascending=False)[0:num])\n",
    "    plt.title('XGBoost Feature Importance')\n",
    "    plt.tight_layout()\n",
    "    plt.show()"
   ]
  },
  {
   "cell_type": "code",
   "execution_count": 31,
   "metadata": {
    "id": "dzpbWoccfMuI",
    "outputId": "fa9bda2e-e2bb-4764-f414-050b6b873253"
   },
   "outputs": [
    {
     "data": {
      "image/png": "[encoded data removed]",
      "text/plain": [
       "<Figure size 2880x1440 with 1 Axes>"
      ]
     },
     "metadata": {
      "needs_background": "light"
     },
     "output_type": "display_data"
    }
   ],
   "source": [
    "plotImp(model, new_col_names)"
   ]
  },
  {
   "cell_type": "code",
   "execution_count": 35,
   "metadata": {
    "id": "PZJ2IboofMuJ",
    "outputId": "8eb24482-b3ab-4a07-bffb-7cc38dd2c46b"
   },
   "outputs": [
    {
     "data": {
      "text/plain": [
       "['model.joblib']"
      ]
     },
     "execution_count": 35,
     "metadata": {},
     "output_type": "execute_result"
    }
   ],
   "source": [
    "joblib.dump(pipeline_xgb, 'model.joblib')"
   ]
  },
  {
   "cell_type": "code",
   "execution_count": 40,
   "metadata": {
    "id": "p2DeOt0wfMuJ"
   },
   "outputs": [],
   "source": [
    "job_dir=\"bucket-aiplatform\""
   ]
  },
  {
   "cell_type": "code",
   "execution_count": 37,
   "metadata": {
    "id": "40gaTcObfMuJ"
   },
   "outputs": [],
   "source": [
    "REGION=\"us-central1 \""
   ]
  },
  {
   "cell_type": "code",
   "execution_count": 38,
   "metadata": {
    "id": "q7VZMTehfMuJ",
    "outputId": "2d00a64d-e0a2-4d0f-da85-561edf2947fc"
   },
   "outputs": [
    {
     "name": "stdout",
     "output_type": "stream",
     "text": [
      "us-central1\n"
     ]
    }
   ],
   "source": [
    "!echo $REGION"
   ]
  },
  {
   "cell_type": "code",
   "execution_count": 41,
   "metadata": {
    "id": "0aUnENZGfMuK",
    "outputId": "828faf2c-eaf3-44ab-f07e-568e23def510"
   },
   "outputs": [
    {
     "name": "stdout",
     "output_type": "stream",
     "text": [
      "Copying file://./model.joblib [Content-Type=application/octet-stream]...\n",
      "/ [1 files][ 70.9 KiB/ 70.9 KiB]                                                \n",
      "Operation completed over 1 objects/70.9 KiB.                                     \n"
     ]
    }
   ],
   "source": [
    "!gsutil cp ./model.joblib gs://$job_dir/model.joblib"
   ]
  },
  {
   "cell_type": "code",
   "execution_count": 42,
   "metadata": {
    "id": "cK3r94u-fMuK"
   },
   "outputs": [],
   "source": [
    "model = joblib.load(\"./model.joblib\")"
   ]
  },
  {
   "cell_type": "code",
   "execution_count": 43,
   "metadata": {
    "id": "OJlYz9I6fMuK"
   },
   "outputs": [],
   "source": [
    "instance = ['779031033',46,'F','2','Graduate','Married','$40K - $60K','Blue',22,6,1,3,2305,1627,678,0.747,1230,36,0.565,0.706]\n",
    "_COLUMN_NAMES=['CLIENTNUM','Customer_Age','Gender','Dependent_count','Education_Level','Marital_Status','Income_Category','Card_Category','Months_on_book','Total_Relationship_Count','Months_Inactive_12_mon','Contacts_Count_12_mon','Credit_Limit','Total_Revolving_Bal','Avg_Open_To_Buy','Total_Amt_Chng_Q4_Q1','Total_Trans_Amt','Total_Trans_Ct','Total_Ct_Chng_Q4_Q1','Avg_Utilization_Ratio']"
   ]
  },
  {
   "cell_type": "code",
   "execution_count": 44,
   "metadata": {
    "id": "fSl4jbDKfMuL",
    "outputId": "0493c70b-de6a-4839-817f-f8d68f1c172a"
   },
   "outputs": [
    {
     "data": {
      "text/plain": [
       "array(['Existing Customer'], dtype=object)"
      ]
     },
     "execution_count": 44,
     "metadata": {},
     "output_type": "execute_result"
    }
   ],
   "source": [
    "model.predict(pd.DataFrame(data=[instance], columns=_COLUMN_NAMES))"
   ]
  },
  {
   "cell_type": "code",
   "execution_count": null,
   "metadata": {
    "id": "zf1YVo-OfMuL"
   },
   "outputs": [],
   "source": []
  },
  {
   "cell_type": "code",
   "execution_count": null,
   "metadata": {
    "id": "t9veEPY5fMuL"
   },
   "outputs": [],
   "source": []
  }
 ],
 "metadata": {
  "colab": {
   "name": "Churn_model_xgboost.ipynb",
   "provenance": []
  },
  "environment": {
   "kernel": "python3",
   "name": "common-cpu.m94",
   "type": "gcloud",
   "uri": "gcr.io/deeplearning-platform-release/base-cpu:m94"
  },
  "kernelspec": {
   "display_name": "Python 3",
   "language": "python",
   "name": "python3"
  },
  "language_info": {
   "codemirror_mode": {
    "name": "ipython",
    "version": 3
   },
   "file_extension": ".py",
   "mimetype": "text/x-python",
   "name": "python",
   "nbconvert_exporter": "python",
   "pygments_lexer": "ipython3",
   "version": "3.7.12"
  }
 },
 "nbformat": 4,
 "nbformat_minor": 4
}
